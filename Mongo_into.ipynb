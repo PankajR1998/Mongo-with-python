{
 "cells": [
  {
   "cell_type": "code",
   "execution_count": 1,
   "metadata": {},
   "outputs": [],
   "source": [
    "import pymongo\n",
    "\n",
    "client = pymongo.MongoClient('mongodb://127.0.0.1:27017/')\n",
    "\n",
    "mydb = client['Employee']\n",
    "table = mydb.employee_info"
   ]
  },
  {
   "cell_type": "code",
   "execution_count": 3,
   "metadata": {},
   "outputs": [
    {
     "data": {
      "text/plain": [
       "<pymongo.results.InsertOneResult at 0x19231062380>"
      ]
     },
     "execution_count": 3,
     "metadata": {},
     "output_type": "execute_result"
    }
   ],
   "source": [
    "record = {\n",
    "    'first_name': 'Pankaj',\n",
    "    'last_name': 'Rawat',\n",
    "    'Age': 26\n",
    "}\n",
    "table.insert_one(record)"
   ]
  },
  {
   "cell_type": "code",
   "execution_count": 4,
   "metadata": {},
   "outputs": [
    {
     "data": {
      "text/plain": [
       "<pymongo.results.InsertManyResult at 0x19231062740>"
      ]
     },
     "execution_count": 4,
     "metadata": {},
     "output_type": "execute_result"
    }
   ],
   "source": [
    "# add multiple objects.\n",
    "records = [{\n",
    "    'first_name': 'Neeraj',\n",
    "    'last_name': 'Rawat',\n",
    "    'Age': 20\n",
    "},\n",
    "{\n",
    "    'first_name': 'Manoj',\n",
    "    'last_name': 'Rawat',\n",
    "    'Age': 22\n",
    "}]\n",
    "table.insert_many(records)"
   ]
  },
  {
   "cell_type": "code",
   "execution_count": 2,
   "metadata": {},
   "outputs": [
    {
     "data": {
      "text/plain": [
       "{'_id': ObjectId('653a93a27944e9a20bf72005'),\n",
       " 'first_name': 'Pankaj',\n",
       " 'last_name': 'Rawat',\n",
       " 'Age': 26}"
      ]
     },
     "execution_count": 2,
     "metadata": {},
     "output_type": "execute_result"
    }
   ],
   "source": [
    "table.find_one()"
   ]
  },
  {
   "cell_type": "code",
   "execution_count": 3,
   "metadata": {},
   "outputs": [
    {
     "data": {
      "text/plain": [
       "<pymongo.cursor.Cursor at 0x179385c2c90>"
      ]
     },
     "execution_count": 3,
     "metadata": {},
     "output_type": "execute_result"
    }
   ],
   "source": [
    "table.find()"
   ]
  },
  {
   "cell_type": "code",
   "execution_count": 4,
   "metadata": {},
   "outputs": [
    {
     "name": "stdout",
     "output_type": "stream",
     "text": [
      "{'_id': ObjectId('653a93a27944e9a20bf72005'), 'first_name': 'Pankaj', 'last_name': 'Rawat', 'Age': 26}\n",
      "{'_id': ObjectId('653a93c17944e9a20bf72006'), 'first_name': 'Neeraj', 'last_name': 'Rawat', 'Age': 20}\n",
      "{'_id': ObjectId('653a93c17944e9a20bf72007'), 'first_name': 'Manoj', 'last_name': 'Rawat', 'Age': 22}\n"
     ]
    }
   ],
   "source": [
    "for i in table.find():\n",
    "    print(i)"
   ]
  },
  {
   "cell_type": "code",
   "execution_count": null,
   "metadata": {},
   "outputs": [],
   "source": []
  }
 ],
 "metadata": {
  "kernelspec": {
   "display_name": "Python 3",
   "language": "python",
   "name": "python3"
  },
  "language_info": {
   "codemirror_mode": {
    "name": "ipython",
    "version": 3
   },
   "file_extension": ".py",
   "mimetype": "text/x-python",
   "name": "python",
   "nbconvert_exporter": "python",
   "pygments_lexer": "ipython3",
   "version": "3.11.6"
  }
 },
 "nbformat": 4,
 "nbformat_minor": 2
}
